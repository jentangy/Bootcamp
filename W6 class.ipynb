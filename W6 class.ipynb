{
 "cells": [
  {
   "cell_type": "code",
   "execution_count": 1,
   "id": "8a129bc8",
   "metadata": {},
   "outputs": [
    {
     "name": "stdout",
     "output_type": "stream",
     "text": [
      "6.0 + 8.0 = 14.00\n"
     ]
    }
   ],
   "source": [
    "# Function with return statements\n",
    "\n",
    "def add_numbers ():\n",
    "    a = float(input(\"Type a number\")) #user input for first number\n",
    "    b = float(input(\"Type another number\")) #user input for second number\n",
    "    try: \n",
    "        result = a + b #result of a + b so I can make it do 2f output\n",
    "        print(f\"{a} + {b} = {result:.2f}\") #f string to make it print an equation\n",
    "\n",
    "    except:\n",
    "        print(\"invalid input, please enter a number\")\n",
    "add_numbers ()"
   ]
  },
  {
   "cell_type": "code",
   "execution_count": 22,
   "id": "fab55bf0",
   "metadata": {},
   "outputs": [
    {
     "name": "stdout",
     "output_type": "stream",
     "text": [
      "Hello Greg\n"
     ]
    }
   ],
   "source": [
    "# Function with default parameters\n",
    "def greet_with_default ():\n",
    "    name = ((input(\"What is your name?\"))).title()\n",
    "    greeting = \"Hello\"\n",
    "    print(f\"{greeting} {name}\")\n",
    "greet_with_default ()"
   ]
  },
  {
   "cell_type": "code",
   "execution_count": null,
   "id": "060f032b",
   "metadata": {},
   "outputs": [],
   "source": [
    "#recursive function\n",
    "def factorial(n):\n",
    "    # Base case: factorial of 0 or 1 is 1\n",
    "    if n == 0 or n == 1:\n",
    "        return 1\n",
    "    else:\n",
    "        # Recursive case: n * factorial of (n - 1)\n",
    "        return n * factorial(n - 1)\n",
    "\n",
    "# Prompt the user for a non-negative integer\n",
    "try:\n",
    "    num = int(input(\"Enter a non-negative integer: \"))\n",
    "    if num < 0:\n",
    "        print(\"Please enter a non-negative number.\")\n",
    "    else:\n",
    "        result = factorial(num)\n",
    "        print(f\"The factorial of {num} is {result}.\")\n",
    "except ValueError:\n",
    "    print(\"Invalid input. Please enter an integer.\")"
   ]
  }
 ],
 "metadata": {
  "kernelspec": {
   "display_name": "bootcamp",
   "language": "python",
   "name": "python3"
  },
  "language_info": {
   "codemirror_mode": {
    "name": "ipython",
    "version": 3
   },
   "file_extension": ".py",
   "mimetype": "text/x-python",
   "name": "python",
   "nbconvert_exporter": "python",
   "pygments_lexer": "ipython3",
   "version": "3.10.16"
  }
 },
 "nbformat": 4,
 "nbformat_minor": 5
}
