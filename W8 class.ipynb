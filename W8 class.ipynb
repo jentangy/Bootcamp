{
 "cells": [
  {
   "cell_type": "code",
   "execution_count": 14,
   "id": "4430f62c",
   "metadata": {},
   "outputs": [
    {
     "name": "stdout",
     "output_type": "stream",
     "text": [
      "teddy says woof!\n",
      "cosmo says woof!\n"
     ]
    }
   ],
   "source": [
    "# Basic class definition\n",
    "class dog():\n",
    "    def __init__(self, name): #initialiser method that takes one parameter (name)\n",
    "        self.name =name\n",
    "    def bark(self):\n",
    "        print(f\"{self.name} says woof!\")\n",
    "    \n",
    "# User input dog names\n",
    "name1 = input(\"What is dog 1's name?\")\n",
    "name2 = input(\"What is dog 2's name?\")\n",
    "\n",
    "# creating dog instances usinmg the names\n",
    "dog1 = dog(name1)\n",
    "dog2 = dog(name2)\n",
    "\n",
    "# Calling the bark method on each instance\n",
    "dog1.bark()\n",
    "dog2.bark()"
   ]
  },
  {
   "cell_type": "code",
   "execution_count": 15,
   "id": "fa72b8d4",
   "metadata": {},
   "outputs": [
    {
     "name": "stdout",
     "output_type": "stream",
     "text": [
      "The gwm ora has 50 miles, and will have 100 miles.\n"
     ]
    }
   ],
   "source": [
    "class Car:\n",
    "    def __init__(self, make, model, mileage=0): # so if no number inputted, mileage = 0\n",
    "        self.make = make            #defines all the classes\n",
    "        self.model = model\n",
    "        self.mileage = mileage\n",
    "\n",
    "    def drive(self, distance):      # defines the distance as inital + how far you want to go\n",
    "        self.mileage += distance # means self.mileage + distance\n",
    "\n",
    "    def display_mileage(self):      #prints the sentence\n",
    "        print(f\"The {self.make} {self.model} has {mileage_input} miles, and will have {self.mileage} miles.\")\n",
    "\n",
    "# user input\n",
    "make = input(\"Enter the car make: \")\n",
    "model = input(\"Enter the car model: \")\n",
    "mileage_input = input(\"Enter the starting mileage (or leave blank for 0): \")\n",
    "\n",
    "# Handle empty or invalid input\n",
    "if mileage_input.strip() == \"\":\n",
    "    mileage = 0\n",
    "else:\n",
    "    try:\n",
    "        mileage = int(mileage_input)\n",
    "    except ValueError:\n",
    "        print(\"Invalid mileage input. Defaulting to 0.\")\n",
    "        mileage = 0\n",
    "\n",
    "# Create the Car instance\n",
    "user_car = Car(make, model, mileage)\n",
    "\n",
    "# Ask how far to drive (user input)\n",
    "distance = int(input(\"How many miles do you want to drive? \"))\n",
    "user_car.drive(distance)\n",
    "\n",
    "# Show the result\n",
    "user_car.display_mileage()\n",
    "\n"
   ]
  },
  {
   "cell_type": "code",
   "execution_count": 22,
   "id": "1f7b82bf",
   "metadata": {},
   "outputs": [
    {
     "name": "stdout",
     "output_type": "stream",
     "text": [
      "The Toyota Corolla has 50 miles.\n",
      "The Toyota Corolla has 150 miles.\n"
     ]
    }
   ],
   "source": [
    "# inheritance\n",
    "class Vehicle():\n",
    "    def __init__(self, make):\n",
    "        self.make = make #attribute for make\n",
    "\n",
    "class Car(Vehicle):\n",
    "    def __init__(self, make, model):\n",
    "        super().__init__(make) # takes the super class make\n",
    "        self.model = model\n",
    "        self.mileage = 0 # mileage = 0\n",
    "\n",
    "    def drive(self, distance): \n",
    "        self.mileage += distance\n",
    "\n",
    "    def display_mileage(self):\n",
    "        print(f\"The {self.make} {self.model} has {self.mileage} miles.\")\n",
    "\n",
    "my_car = Car(\"Toyota\", \"Corolla\")\n",
    "\n",
    "my_car.drive(50)\n",
    "my_car.display_mileage()\n",
    "\n",
    "my_car.drive(100)\n",
    "my_car.display_mileage()\n",
    "\n"
   ]
  },
  {
   "cell_type": "code",
   "execution_count": 29,
   "id": "24721710",
   "metadata": {},
   "outputs": [
    {
     "name": "stdout",
     "output_type": "stream",
     "text": [
      "Deposited $1.0.\n",
      "Withdrawal amount must be greater than $0.\n",
      "Current balance: $10.00\n"
     ]
    }
   ],
   "source": [
    "# encapsulation\n",
    "class BankAccount():\n",
    "    def __init__(self, balance):\n",
    "        self.__balance = balance\n",
    "    \n",
    "    # Deposit method\n",
    "    def deposit(self, amount):\n",
    "        if amount > 0:\n",
    "            self.__balance += amount\n",
    "            print(f\"Deposited ${amount}.\")\n",
    "        else:\n",
    "            print(\"Deposit amount must be positive.\")\n",
    "\n",
    "    # Withdraw method\n",
    "    def withdraw(self, amount):\n",
    "        if amount > 0 and amount <= self.__balance:\n",
    "            self.__balance -= amount\n",
    "            print(f\"Withdrew ${amount}.\")\n",
    "        elif amount > self.__balance:\n",
    "            print(\"Insufficient funds.\")\n",
    "        else:\n",
    "            print(\"Withdrawal amount must be greater than $0.\")\n",
    "\n",
    "    # Get balance method\n",
    "    def get_balance(self):\n",
    "        return self.__balance\n",
    "\n",
    "# user input\n",
    "\n",
    "try:\n",
    "    starting_balance = float(input(\"Enter starting balance: $\"))\n",
    "except ValueError:\n",
    "    print(\"Invalid input. Starting balance set to $0.\")\n",
    "    starting_balance = 0\n",
    "\n",
    "# Create account\n",
    "my_account = BankAccount(starting_balance)\n",
    "\n",
    "# Deposit\n",
    "try:\n",
    "    deposit_amount = float(input(\"Enter amount to deposit: $\"))\n",
    "    my_account.deposit(deposit_amount)\n",
    "except ValueError:\n",
    "    print(\"Invalid deposit amount.\")\n",
    "\n",
    "# Withdraw\n",
    "try:\n",
    "    withdraw_amount = float(input(\"Enter amount to withdraw: $\"))\n",
    "    my_account.withdraw(withdraw_amount)\n",
    "except ValueError:\n",
    "    print(\"Invalid withdrawal amount.\")\n",
    "\n",
    "# Show final balance\n",
    "print(f\"Current balance: ${my_account.get_balance():.2f}\")"
   ]
  },
  {
   "cell_type": "code",
   "execution_count": 36,
   "id": "47b22445",
   "metadata": {},
   "outputs": [
    {
     "name": "stdout",
     "output_type": "stream",
     "text": [
      "Teddy says woof!\n",
      "Cosmo says woof!\n",
      "Sylvie says meow!\n",
      "Evie says meow!\n"
     ]
    }
   ],
   "source": [
    "# polymorphism\n",
    "\n",
    "class Dog():\n",
    "    def __init__(self, name):\n",
    "        self.name = name\n",
    "    def speak(self):\n",
    "        print(f\"{self.name} says woof!\")\n",
    "        \n",
    "class Cat():\n",
    "    def __init__(self, name):\n",
    "        self.name = name\n",
    "    def speak(self):\n",
    "        print(f\"{self.name} says meow!\")\n",
    "\n",
    "dog1 = Dog(\"Teddy\")\n",
    "dog2 = Dog(\"Cosmo\")\n",
    "\n",
    "cat1 = Cat(\"Sylvie\")\n",
    "cat2 = Cat(\"Evie\")\n",
    "\n",
    "dog1.speak()\n",
    "dog2.speak()\n",
    "\n",
    "cat1.speak()\n",
    "cat2.speak()\n",
    "\n"
   ]
  },
  {
   "cell_type": "code",
   "execution_count": null,
   "id": "c8c38bae",
   "metadata": {},
   "outputs": [],
   "source": [
    "\n"
   ]
  }
 ],
 "metadata": {
  "kernelspec": {
   "display_name": "bootcamp",
   "language": "python",
   "name": "python3"
  },
  "language_info": {
   "codemirror_mode": {
    "name": "ipython",
    "version": 3
   },
   "file_extension": ".py",
   "mimetype": "text/x-python",
   "name": "python",
   "nbconvert_exporter": "python",
   "pygments_lexer": "ipython3",
   "version": "3.10.16"
  }
 },
 "nbformat": 4,
 "nbformat_minor": 5
}
