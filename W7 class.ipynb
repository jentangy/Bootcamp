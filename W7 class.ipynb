{
 "cells": [
  {
   "cell_type": "code",
   "execution_count": null,
   "id": "a64aa27b",
   "metadata": {},
   "outputs": [
    {
     "name": "stdout",
     "output_type": "stream",
     "text": [
      "Student Data:\n",
      "Name: hannah, Grade: 3\n"
     ]
    }
   ],
   "source": [
    "# Create an empty list to store student data\n",
    "students = []\n",
    "\n",
    "while True:\n",
    "    # Prompt for student name\n",
    "    name = input(\"Enter student name (or type 'done' to finish): \")\n",
    "    if name.lower() == \"done\": #case insensitive\n",
    "        break #breaks while loop, could also break boolean => make it so that it's false so it breaks while loop\n",
    "    \n",
    "    # Prompt for student grade\n",
    "    grade = input(f\"Enter grade for {name}: \")\n",
    "    \n",
    "    # Create a dictionary for the student\n",
    "    student = {\n",
    "        'name': name,\n",
    "        'grade': grade}\n",
    "    \n",
    "    # Add the dictionary to the students list\n",
    "    students.append(student) #append() adds a single element to the end of a list \n",
    "    # makes name and grade one thingy => adds to dictionary as single item\n",
    "\n",
    "# Print all student names and grades\n",
    "print(\"Student Data:\")\n",
    "for student in students: #for element in students, prints each element one by one in the dictionary\n",
    "    print(f\"Name: {student['name']}, Grade: {student['grade']}\")"
   ]
  },
  {
   "cell_type": "code",
   "execution_count": null,
   "id": "880f28d8",
   "metadata": {},
   "outputs": [],
   "source": []
  }
 ],
 "metadata": {
  "kernelspec": {
   "display_name": "bootcamp",
   "language": "python",
   "name": "python3"
  },
  "language_info": {
   "codemirror_mode": {
    "name": "ipython",
    "version": 3
   },
   "file_extension": ".py",
   "mimetype": "text/x-python",
   "name": "python",
   "nbconvert_exporter": "python",
   "pygments_lexer": "ipython3",
   "version": "3.10.16"
  }
 },
 "nbformat": 4,
 "nbformat_minor": 5
}
