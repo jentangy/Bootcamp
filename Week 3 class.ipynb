{
 "cells": [
  {
   "cell_type": "code",
   "execution_count": 4,
   "id": "6e432789",
   "metadata": {},
   "outputs": [
    {
     "name": "stdout",
     "output_type": "stream",
     "text": [
      "23\n"
     ]
    }
   ],
   "source": [
    "# assign current age\n",
    "current_age = 23\n",
    "print(current_age)"
   ]
  },
  {
   "cell_type": "code",
   "execution_count": 5,
   "id": "a35f7a9e",
   "metadata": {},
   "outputs": [
    {
     "name": "stdout",
     "output_type": "stream",
     "text": [
      "28\n"
     ]
    }
   ],
   "source": [
    "# current age + 5\n",
    "current_age = 23\n",
    "print(current_age + 5)"
   ]
  },
  {
   "cell_type": "code",
   "execution_count": 12,
   "id": "d707e480",
   "metadata": {},
   "outputs": [
    {
     "name": "stdout",
     "output_type": "stream",
     "text": [
      "Hello, my name is jen and I am 23 years old\n"
     ]
    }
   ],
   "source": [
    "# name and age\n",
    "name = \"jen\"\n",
    "age = 23\n",
    "print((\"Hello, my name is {} and I am {} years old\" ) .format(name, age))"
   ]
  },
  {
   "cell_type": "code",
   "execution_count": 15,
   "id": "a3b0fd58",
   "metadata": {},
   "outputs": [
    {
     "name": "stdout",
     "output_type": "stream",
     "text": [
      "<class 'str'>\n",
      "<class 'int'>\n",
      "<class 'float'>\n",
      "<class 'bool'>\n"
     ]
    }
   ],
   "source": [
    "# string variable\n",
    "greeting = \"hello\"\n",
    "year_born = 2001\n",
    "height_in_meters = 1.6\n",
    "is_student = True\n",
    "print( type(greeting))\n",
    "print( type(year_born))\n",
    "print( type(height_in_meters))\n",
    "print( type(is_student))"
   ]
  },
  {
   "cell_type": "code",
   "execution_count": 20,
   "id": "86635787",
   "metadata": {},
   "outputs": [
    {
     "name": "stdout",
     "output_type": "stream",
     "text": [
      "You have purchased 2 apples at $5 an apple, your total will be $10\n"
     ]
    }
   ],
   "source": [
    "# variable naming convention\n",
    "price_apple = 2\n",
    "num_apples = 5\n",
    "total_cost = price_apple * num_apples\n",
    "print((\"You have purchased {} apples at ${} an apple, your total will be ${}\") .format(price_apple, num_apples, total_cost)) "
   ]
  },
  {
   "cell_type": "code",
   "execution_count": 26,
   "id": "84f7b893",
   "metadata": {},
   "outputs": [
    {
     "name": "stdout",
     "output_type": "stream",
     "text": [
      "20\n",
      "10\n"
     ]
    }
   ],
   "source": [
    "# swapping variables\n",
    "x = 10\n",
    "y = 20\n",
    "x, y = y, x\n",
    "print(x)\n",
    "print(y)"
   ]
  }
 ],
 "metadata": {
  "kernelspec": {
   "display_name": "bootcamp",
   "language": "python",
   "name": "python3"
  },
  "language_info": {
   "codemirror_mode": {
    "name": "ipython",
    "version": 3
   },
   "file_extension": ".py",
   "mimetype": "text/x-python",
   "name": "python",
   "nbconvert_exporter": "python",
   "pygments_lexer": "ipython3",
   "version": "3.10.16"
  }
 },
 "nbformat": 4,
 "nbformat_minor": 5
}
