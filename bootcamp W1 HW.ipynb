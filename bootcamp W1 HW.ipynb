{
 "cells": [
  {
   "cell_type": "markdown",
   "metadata": {},
   "source": [
    "# Print statements"
   ]
  },
  {
   "cell_type": "code",
   "execution_count": null,
   "metadata": {},
   "outputs": [
    {
     "name": "stdout",
     "output_type": "stream",
     "text": [
      "Hello\n"
     ]
    }
   ],
   "source": [
    "# this is a comment\n",
    "print(\"Hello\") #this is also a comment"
   ]
  },
  {
   "cell_type": "code",
   "execution_count": 1,
   "metadata": {},
   "outputs": [
    {
     "name": "stdout",
     "output_type": "stream",
     "text": [
      "hello\n"
     ]
    }
   ],
   "source": [
    "\"\"\" \n",
    "This is a multi line comment\n",
    "\"\"\"\n",
    "print(\"hello\") #this is also a comment"
   ]
  },
  {
   "cell_type": "code",
   "execution_count": 2,
   "metadata": {},
   "outputs": [
    {
     "name": "stdout",
     "output_type": "stream",
     "text": [
      "2\n",
      "10\n"
     ]
    }
   ],
   "source": [
    "# the following are all integers\n",
    "print(2)\n",
    "print(10)"
   ]
  },
  {
   "cell_type": "code",
   "execution_count": 3,
   "metadata": {},
   "outputs": [
    {
     "name": "stdout",
     "output_type": "stream",
     "text": [
      "10.953\n",
      "8.0\n"
     ]
    }
   ],
   "source": [
    "# the following are all floats\n",
    "print(10.953)\n",
    "print(8.0) #even this number is a float"
   ]
  },
  {
   "cell_type": "code",
   "execution_count": 4,
   "metadata": {},
   "outputs": [
    {
     "name": "stdout",
     "output_type": "stream",
     "text": [
      "True\n",
      "False\n"
     ]
    }
   ],
   "source": [
    "# the following are bolleans\n",
    "print(True)\n",
    "print(False)"
   ]
  },
  {
   "cell_type": "code",
   "execution_count": 5,
   "metadata": {},
   "outputs": [
    {
     "name": "stdout",
     "output_type": "stream",
     "text": [
      " \n",
      "There's a snake in my boot!\n",
      "True\n"
     ]
    }
   ],
   "source": [
    "# the following are strings\n",
    "print(\" \")\n",
    "print(\"There's a snake in my boot!\")\n",
    "print(True)"
   ]
  },
  {
   "cell_type": "code",
   "execution_count": 6,
   "metadata": {},
   "outputs": [
    {
     "name": "stdout",
     "output_type": "stream",
     "text": [
      "Jennifer\n"
     ]
    }
   ],
   "source": [
    "print(\"Jennifer\")"
   ]
  },
  {
   "cell_type": "markdown",
   "metadata": {},
   "source": [
    "# Variables"
   ]
  },
  {
   "cell_type": "code",
   "execution_count": 7,
   "metadata": {},
   "outputs": [
    {
     "ename": "NameError",
     "evalue": "name 'sport' is not defined",
     "output_type": "error",
     "traceback": [
      "\u001b[0;31m---------------------------------------------------------------------------\u001b[0m",
      "\u001b[0;31mNameError\u001b[0m                                 Traceback (most recent call last)",
      "Cell \u001b[0;32mIn[7], line 2\u001b[0m\n\u001b[1;32m      1\u001b[0m Sport \u001b[38;5;241m=\u001b[39m \u001b[38;5;124m'\u001b[39m\u001b[38;5;124mbaseball\u001b[39m\u001b[38;5;124m'\u001b[39m \u001b[38;5;66;03m#capital 'S'\u001b[39;00m\n\u001b[0;32m----> 2\u001b[0m \u001b[38;5;28mprint\u001b[39m(\u001b[43msport\u001b[49m)\n",
      "\u001b[0;31mNameError\u001b[0m: name 'sport' is not defined"
     ]
    }
   ],
   "source": [
    "Sport = 'baseball' #capital 'S'\n",
    "print(sport) #lowercase 's'"
   ]
  },
  {
   "cell_type": "code",
   "execution_count": null,
   "metadata": {},
   "outputs": [
    {
     "name": "stdout",
     "output_type": "stream",
     "text": [
      "baseball\n"
     ]
    }
   ],
   "source": [
    "print(Sport)"
   ]
  },
  {
   "cell_type": "code",
   "execution_count": null,
   "metadata": {},
   "outputs": [
    {
     "name": "stdout",
     "output_type": "stream",
     "text": [
      "5 8.4\n"
     ]
    }
   ],
   "source": [
    "num1 = 5        # storing an integer into a variable\n",
    "num2 = 8.4      # storing a float into a variable\n",
    "print(num1, num2)       # you can print multiple items using commas"
   ]
  },
  {
   "cell_type": "code",
   "execution_count": null,
   "metadata": {},
   "outputs": [
    {
     "name": "stdout",
     "output_type": "stream",
     "text": [
      "True\n"
     ]
    }
   ],
   "source": [
    "# storing a bollean into a variable\n",
    "switch = True\n",
    "print(switch)"
   ]
  },
  {
   "cell_type": "code",
   "execution_count": null,
   "metadata": {},
   "outputs": [
    {
     "name": "stdout",
     "output_type": "stream",
     "text": [
      "John Smith 9\n"
     ]
    }
   ],
   "source": [
    "# storing strings into a variable\n",
    "name = 'John Smith'\n",
    "fav_number = '9'\n",
    "print(name, fav_number)     # will print 9 next to the name"
   ]
  },
  {
   "cell_type": "code",
   "execution_count": null,
   "metadata": {},
   "outputs": [
    {
     "name": "stdout",
     "output_type": "stream",
     "text": [
      "13.4\n"
     ]
    }
   ],
   "source": [
    "# using two variables to create another variable\n",
    "result = num1 + num2\n",
    "print(result)"
   ]
  },
  {
   "cell_type": "code",
   "execution_count": null,
   "metadata": {},
   "outputs": [
    {
     "name": "stdout",
     "output_type": "stream",
     "text": [
      "14.4\n",
      "72.0\n"
     ]
    }
   ],
   "source": [
    "# adding, deleting, multiplying, dividing from a variable\n",
    "result += 1 # same as saying result = result + 1\n",
    "print(result)\n",
    "result *= num1 # same as saying result = result * num1\n",
    "print(result)"
   ]
  },
  {
   "cell_type": "code",
   "execution_count": null,
   "metadata": {},
   "outputs": [
    {
     "name": "stdout",
     "output_type": "stream",
     "text": [
      "John\n",
      "Sam\n"
     ]
    }
   ],
   "source": [
    "# defining a variable and overwriting it's value\n",
    "name = 'John'\n",
    "print(name)\n",
    "name = 'Sam'\n",
    "print(name)"
   ]
  },
  {
   "cell_type": "code",
   "execution_count": null,
   "metadata": {},
   "outputs": [
    {
     "name": "stdout",
     "output_type": "stream",
     "text": [
      "30\n"
     ]
    }
   ],
   "source": [
    "x = 3\n",
    "y = 10\n",
    "result = x * y\n",
    "print(result)"
   ]
  },
  {
   "cell_type": "code",
   "execution_count": null,
   "metadata": {},
   "outputs": [
    {
     "name": "stdout",
     "output_type": "stream",
     "text": [
      "3354.0764\n"
     ]
    }
   ],
   "source": [
    "h = 245.54\n",
    "w = 13.66\n",
    "area = h * w \n",
    "print(area)"
   ]
  },
  {
   "cell_type": "markdown",
   "metadata": {},
   "source": [
    "# Working with strings"
   ]
  },
  {
   "cell_type": "code",
   "execution_count": null,
   "metadata": {},
   "outputs": [
    {
     "name": "stdout",
     "output_type": "stream",
     "text": [
      "John Smith\n"
     ]
    }
   ],
   "source": [
    "# using the addition operator without variables\n",
    "name = \"John\" + \" \" + \"Smith\"\n",
    "print(name)"
   ]
  },
  {
   "cell_type": "code",
   "execution_count": null,
   "metadata": {},
   "outputs": [
    {
     "name": "stdout",
     "output_type": "stream",
     "text": [
      "John Smith\n"
     ]
    }
   ],
   "source": [
    "# using the addition operator with variables\n",
    "first_name = \"John\"\n",
    "last_name = \"Smith\"\n",
    "full_name = first_name + \" \" + last_name\n",
    "print(full_name)"
   ]
  },
  {
   "cell_type": "code",
   "execution_count": null,
   "metadata": {},
   "outputs": [
    {
     "name": "stdout",
     "output_type": "stream",
     "text": [
      "Hello John\n",
      "Hello John, you are 28 years old!\n"
     ]
    }
   ],
   "source": [
    "# injecting variables using the format method\n",
    "name = \"John\"\n",
    "print( \"Hello {}\".format(name) )\n",
    "print( \"Hello {}, you are {} years old!\".format(name, 28) )"
   ]
  },
  {
   "cell_type": "code",
   "execution_count": null,
   "metadata": {},
   "outputs": [
    {
     "name": "stdout",
     "output_type": "stream",
     "text": [
      "Hello John\n"
     ]
    }
   ],
   "source": [
    "# using the new f strings\n",
    "name = \"John\"\n",
    "print( f\"Hello {name}\" )"
   ]
  },
  {
   "cell_type": "code",
   "execution_count": null,
   "metadata": {},
   "outputs": [
    {
     "name": "stdout",
     "output_type": "stream",
     "text": [
      "Hello, John\n"
     ]
    }
   ],
   "source": [
    "# one major difference between versions 2 & 3\n",
    "name = 'John'\n",
    "print('Hello, %s' % name)"
   ]
  },
  {
   "cell_type": "code",
   "execution_count": null,
   "metadata": {},
   "outputs": [
    {
     "name": "stdout",
     "output_type": "stream",
     "text": [
      "Hello, John Smith\n"
     ]
    }
   ],
   "source": [
    "# python 2 multiple variable formatting\n",
    "first_name = \"John\"\n",
    "last_name = \"Smith\"\n",
    "print( \"Hello, %s %s\" % (first_name, last_name) )\n",
    "# surround the variables in parenthesis"
   ]
  },
  {
   "cell_type": "code",
   "execution_count": null,
   "metadata": {},
   "outputs": [
    {
     "name": "stdout",
     "output_type": "stream",
     "text": [
      "H\n",
      "e\n",
      "o\n"
     ]
    }
   ],
   "source": [
    "# using indexes to print each element\n",
    "word = \"Hello\"\n",
    "print( word[ 0 ] ) # will output 'H'\n",
    "print( word[ 1 ] ) # will output 'e'\n",
    "print( word[ -1 ] ) # will output 'o'"
   ]
  },
  {
   "cell_type": "code",
   "execution_count": null,
   "metadata": {},
   "outputs": [
    {
     "name": "stdout",
     "output_type": "stream",
     "text": [
      "He\n"
     ]
    }
   ],
   "source": [
    "print( word[ 0 : 2 ] ) # will output 'He'"
   ]
  },
  {
   "cell_type": "code",
   "execution_count": null,
   "metadata": {},
   "outputs": [
    {
     "name": "stdout",
     "output_type": "stream",
     "text": [
      "Hlo\n"
     ]
    }
   ],
   "source": [
    "print( word[ 0 : 5 : 2 ] ) # will output 'Hlo'\n",
    "# variable_name[ start : stop : step ]      will skip letters by 2"
   ]
  },
  {
   "cell_type": "code",
   "execution_count": null,
   "metadata": {},
   "outputs": [
    {
     "name": "stdout",
     "output_type": "stream",
     "text": [
      "23 4.5 False John\n"
     ]
    }
   ],
   "source": [
    "integer_value = 23\n",
    "float_value = 4.5\n",
    "boolean_value = False\n",
    "string_value = \"John\"\n",
    "\n",
    "print(\"{} {} {} {}\".format(integer_value, float_value, boolean_value, string_value))"
   ]
  },
  {
   "cell_type": "code",
   "execution_count": null,
   "metadata": {},
   "outputs": [
    {
     "name": "stdout",
     "output_type": "stream",
     "text": [
      "Jen's favorite sport is sleeping.\n",
      "Jen is working on Python programming!\n"
     ]
    }
   ],
   "source": [
    "name = \"Jen\"\n",
    "sport = \"sleeping\"\n",
    "activity = \"Python\"\n",
    "\n",
    "print(\"{}'s favorite sport is {}.\".format(name, sport))\n",
    "print(\"{} is working on {} programming!\".format(name, activity))"
   ]
  },
  {
   "cell_type": "markdown",
   "metadata": {},
   "source": [
    "# Manipulating strings"
   ]
  },
  {
   "cell_type": "code",
   "execution_count": null,
   "metadata": {},
   "outputs": [
    {
     "name": "stdout",
     "output_type": "stream",
     "text": [
      "John Smith\n"
     ]
    }
   ],
   "source": [
    "# using the title method to capitalize a string\n",
    "name = \"john smith\"\n",
    "print( name.title( ) )"
   ]
  },
  {
   "cell_type": "code",
   "execution_count": null,
   "metadata": {},
   "outputs": [
    {
     "data": {
      "text/plain": [
       "'john smith'"
      ]
     },
     "execution_count": 58,
     "metadata": {},
     "output_type": "execute_result"
    }
   ],
   "source": [
    "name.lower( )"
   ]
  },
  {
   "cell_type": "code",
   "execution_count": null,
   "metadata": {},
   "outputs": [
    {
     "data": {
      "text/plain": [
       "'JOHN SMITH'"
      ]
     },
     "execution_count": 59,
     "metadata": {},
     "output_type": "execute_result"
    }
   ],
   "source": [
    "name.upper( )"
   ]
  },
  {
   "cell_type": "code",
   "execution_count": null,
   "metadata": {},
   "outputs": [
    {
     "name": "stdout",
     "output_type": "stream",
     "text": [
      "Hello there.\n"
     ]
    }
   ],
   "source": [
    "# replacing an exclamation point with a period\n",
    "words = \"Hello there!\"\n",
    "print( words.replace( \"!\", \".\" ) )"
   ]
  },
  {
   "cell_type": "code",
   "execution_count": null,
   "metadata": {},
   "outputs": [
    {
     "name": "stdout",
     "output_type": "stream",
     "text": [
      "5\n"
     ]
    }
   ],
   "source": [
    "# finding the starting index of our searched term\n",
    "s = \"Look over that way\"\n",
    "print( s.find(\"over\") )"
   ]
  },
  {
   "cell_type": "code",
   "execution_count": null,
   "metadata": {},
   "outputs": [
    {
     "name": "stdout",
     "output_type": "stream",
     "text": [
      "john\n"
     ]
    }
   ],
   "source": [
    "# removing white space with strip\n",
    "name = \" john \"\n",
    "print( name.strip( ) )"
   ]
  },
  {
   "cell_type": "code",
   "execution_count": null,
   "metadata": {},
   "outputs": [
    {
     "name": "stdout",
     "output_type": "stream",
     "text": [
      "['These', 'words', 'are', 'separated', 'by', 'spaces']\n"
     ]
    }
   ],
   "source": [
    "# converting a string into a list of words\n",
    "s = \"These words are separated by spaces\"\n",
    "print( s.split(\" \") )"
   ]
  },
  {
   "cell_type": "code",
   "execution_count": null,
   "metadata": {},
   "outputs": [
    {
     "data": {
      "text/plain": [
       "'UPPERCASE'"
      ]
     },
     "execution_count": 67,
     "metadata": {},
     "output_type": "execute_result"
    }
   ],
   "source": [
    "word = \"uppercase\"\n",
    "word.upper( )"
   ]
  },
  {
   "cell_type": "code",
   "execution_count": null,
   "metadata": {},
   "outputs": [
    {
     "name": "stdout",
     "output_type": "stream",
     "text": [
      "John Smith\n"
     ]
    }
   ],
   "source": [
    "string = \"$$John Smith\"\n",
    "\n",
    "# Using lstrip() to remove the dollar signs from the left\n",
    "left_stripped = string.lstrip(\"$\")\n",
    "\n",
    "print(left_stripped)"
   ]
  },
  {
   "cell_type": "markdown",
   "metadata": {},
   "source": [
    "# Friday Project: Printing Receipts"
   ]
  },
  {
   "cell_type": "code",
   "execution_count": 9,
   "metadata": {},
   "outputs": [],
   "source": [
    "# create a product and price for three items\n",
    "p1_name, p1_price = \"Books\", 49.95\n",
    "p2_name, p2_price = \"Computer\", 579.99\n",
    "p3_name, p3_price = \"Monitor\", 124.89"
   ]
  },
  {
   "cell_type": "code",
   "execution_count": 10,
   "metadata": {},
   "outputs": [],
   "source": [
    "# create a company name and information\n",
    "company_name = \"coding temple, inc.\"\n",
    "company_address = \"283 Franklin St.\"\n",
    "company_city = \"Boston, MA\""
   ]
  },
  {
   "cell_type": "code",
   "execution_count": 11,
   "metadata": {},
   "outputs": [],
   "source": [
    "# declare ending message\n",
    "message = \"Thanks for shopping with us today!\""
   ]
  },
  {
   "cell_type": "code",
   "execution_count": 12,
   "metadata": {},
   "outputs": [
    {
     "name": "stdout",
     "output_type": "stream",
     "text": [
      "**************************************************\n",
      "\t\tCoding Temple, Inc.\n",
      "\t\t283 Franklin St.\n",
      "\t\tBoston, MA\n",
      "==================================================\n",
      "\tProduct Name\tProduct Price\n",
      "\tBooks                $     49.95\n",
      "\tComputer             $    579.99\n",
      "\tMonitor              $    124.89\n",
      "==================================================\n",
      "\t\t\tTotal\n",
      "\t\t\t$754.83\n",
      "==================================================\n",
      "\n",
      "\tThanks for shopping with us today!\n",
      "\n",
      "**************************************************\n"
     ]
    }
   ],
   "source": [
    "# create a top border\n",
    "print( \"*\" * 50 )\n",
    "\n",
    "# print company information first, using format\n",
    "print(\"\\t\\t{}\".format( company_name.title( ) ))\n",
    "print(\"\\t\\t{}\".format(company_address) )\n",
    "print(\"\\t\\t{}\".format(company_city) )\n",
    "\n",
    "# print a line between sections\n",
    "print( \"=\" * 50 )\n",
    "\n",
    "# print out header for section of items\n",
    "print(\"\\tProduct Name\\tProduct Price\")\n",
    "\n",
    "# create a print statement for each product\n",
    "print(\"\\t{:<20} ${:>10.2f}\".format(p1_name.title(), p1_price))\n",
    "print(\"\\t{:<20} ${:>10.2f}\".format(p2_name.title(), p2_price))\n",
    "print(\"\\t{:<20} ${:>10.2f}\".format(p3_name.title(), p3_price))\n",
    "        #{:<20} left aligns the product names\n",
    "        #{:>10.2f} right aligns the prices so the decimal places line up\n",
    "        \n",
    "# print a line between sections\n",
    "print('=' * 50)\n",
    "\n",
    "# print out header for section of total\n",
    "print(\"\\t\\t\\tTotal\")\n",
    "\n",
    "# calculate total price and print out\n",
    "total = p1_price + p2_price + p3_price\n",
    "print( \"\\t\\t\\t${}\".format(total) )\n",
    "\n",
    "# print a line between sections\n",
    "print( \"=\" * 50)\n",
    "\n",
    "# output thank you message\n",
    "print( \"\\n\\t{}\\n\".format(message) )\n",
    "\n",
    "# create a bottom border\n",
    "print( \"*\" * 50 )"
   ]
  },
  {
   "cell_type": "markdown",
   "metadata": {},
   "source": [
    "# Star side borders"
   ]
  },
  {
   "cell_type": "code",
   "execution_count": 88,
   "metadata": {},
   "outputs": [],
   "source": [
    "def print_pretty_string(input_string, border_char = '*', line_length = 50):\n",
    "    exp_tabs = input_string.expandtabs()\n",
    "    padding = line_length - len(exp_tabs) - 1\n",
    "    if len(exp_tabs) == 0:\n",
    "        padding -= 2\n",
    "    output_string = f\"{border_char} {input_string} {border_char:>{padding}}\"\n",
    "    print(output_string, flush=True)"
   ]
  },
  {
   "cell_type": "code",
   "execution_count": 91,
   "metadata": {},
   "outputs": [
    {
     "name": "stdout",
     "output_type": "stream",
     "text": [
      "**************************************************\n",
      "* \t\tCoding Temple, Inc.              *\n",
      "* \t\t283 Franklin St.                 *\n",
      "* \t\tBoston, MA                       *\n",
      "==================================================\n",
      "* \tProduct Name\tProduct Price            *\n",
      "*\tBooks                $     49.95         *\n",
      "*\tComputer             $    579.99         *\n",
      "*\tMonitor              $    124.89         *\n",
      "==================================================\n",
      "* \t\t\tTotal                    *\n",
      "* \t\t\t$754.83                  *\n",
      "==================================================\n",
      "*                                                *\n",
      "* \tThanks for shopping with us today!       *\n",
      "*                                                *\n",
      "**************************************************\n"
     ]
    }
   ],
   "source": [
    "ast_char = '*'\n",
    "line_len = 50\n",
    "\n",
    "# create a top border\n",
    "print( \"*\" * 50 )\n",
    "\n",
    "# print company information first, using format\n",
    "# print(\"*\" + \"\\t\\t{}\".format( company_name.title( ) ))\n",
    "# print(\"*\" + \"\\t\\t{}\".format(company_address) )\n",
    "# print(\"*\" + \"\\t\\t{}\".format(company_city) )\n",
    "\n",
    "print_pretty_string(f\"\\t\\t{company_name.title()}\")\n",
    "print_pretty_string(f\"\\t\\t{company_address}\")\n",
    "print_pretty_string(f\"\\t\\t{company_city}\")\n",
    "\n",
    "# print a line between sections\n",
    "print( \"=\" * 50 )\n",
    "\n",
    "# print out header for section of items\n",
    "# line_content = \"      Product Name    Product Price \"\n",
    "# r_all = 49 - len(line_content) - 1\n",
    "# print(\"* \\tProduct Name\\tProduct Price\"  + f\"{ast_char:>{r_all}}\")\n",
    "print_pretty_string(\"\\tProduct Name\\tProduct Price\", '*', line_len)\n",
    "\n",
    "# create a print statement for each product\n",
    "print(\"*\" + \"\\t{:<20} ${:>10.2f}\".format(p1_name.title(), p1_price) + f\"{ast_char:>10}\")\n",
    "print(\"*\" + \"\\t{:<20} ${:>10.2f}\".format(p2_name.title(), p2_price) + f\"{ast_char:>10}\")\n",
    "print(\"*\" + \"\\t{:<20} ${:>10.2f}\".format(p3_name.title(), p3_price) + f\"{ast_char:>10}\")\n",
    "# print(f\"\\t{p3_name.title():<20} ${p3_price:>10.2f}\")\n",
    "        #{:<20} left aligns the product names\n",
    "        #{:>10.2f} right aligns the prices so the decimal places line up\n",
    "        \n",
    "# print a line between sections\n",
    "print('=' * 50)\n",
    "\n",
    "# print out header for section of total\n",
    "# print(\"*\" + \"\\t\\t\\tTotal\")\n",
    "print_pretty_string(\"\\t\\t\\tTotal\")\n",
    "\n",
    "# calculate total price and print out\n",
    "total = p1_price + p2_price + p3_price\n",
    "# print(\"*\" + \"\\t\\t\\t${}\".format(total) )\n",
    "print_pretty_string(f\"\\t\\t\\t${total}\")\n",
    "\n",
    "# print a line between sections\n",
    "print( \"=\" * 50)\n",
    "\n",
    "# output thank you message\n",
    "# print(\"*\" + \"\\n\" + \"*\" + \"\\t{}\\n\".format(message) + \"*\")\n",
    "print_pretty_string(\"\")\n",
    "print_pretty_string(\"\\t{}\".format(message))\n",
    "print_pretty_string(\"\")\n",
    "\n",
    "# create a bottom border\n",
    "print( \"*\" * 50 )"
   ]
  },
  {
   "cell_type": "code",
   "execution_count": null,
   "metadata": {},
   "outputs": [],
   "source": []
  }
 ],
 "metadata": {
  "kernelspec": {
   "display_name": "bootcamp",
   "language": "python",
   "name": "python3"
  },
  "language_info": {
   "codemirror_mode": {
    "name": "ipython",
    "version": 3
   },
   "file_extension": ".py",
   "mimetype": "text/x-python",
   "name": "python",
   "nbconvert_exporter": "python",
   "pygments_lexer": "ipython3",
   "version": "3.10.16"
  }
 },
 "nbformat": 4,
 "nbformat_minor": 2
}
