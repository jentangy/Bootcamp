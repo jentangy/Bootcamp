{
 "cells": [
  {
   "cell_type": "markdown",
   "id": "82e99659",
   "metadata": {},
   "source": [
    "# Conditional with nested statements"
   ]
  },
  {
   "cell_type": "code",
   "execution_count": null,
   "id": "c3a449ed",
   "metadata": {},
   "outputs": [
    {
     "name": "stdout",
     "output_type": "stream",
     "text": [
      "invalid username\n"
     ]
    }
   ],
   "source": [
    "username = input(\"What is your username?\").lower() #case insensitve login\n",
    "if username == \"admin\":\n",
    "    password = input(\"What is your password?\")\n",
    "    if password == \"password123\": # == is check rather than defining variable\n",
    "        print(\"login successful\")\n",
    "    else: \n",
    "        print(\"invalid password\") \n",
    "else: # every other username is invalid\n",
    "    print(\"invalid username\") \n",
    "    "
   ]
  },
  {
   "cell_type": "markdown",
   "id": "b404826c",
   "metadata": {},
   "source": [
    "# Simple conditional check"
   ]
  },
  {
   "cell_type": "code",
   "execution_count": 17,
   "id": "6fcf88cf",
   "metadata": {},
   "outputs": [
    {
     "name": "stdout",
     "output_type": "stream",
     "text": [
      "You are an adult\n"
     ]
    }
   ],
   "source": [
    "age = int(input(\"What is your age\"))\n",
    "if age >= 18:\n",
    "    print(\"You are an adult\")\n",
    "else:\n",
    "    print(\"You are not an adult\")"
   ]
  },
  {
   "cell_type": "markdown",
   "id": "85b91b00",
   "metadata": {},
   "source": [
    "# Conditional with multiple conditions"
   ]
  },
  {
   "cell_type": "code",
   "execution_count": 33,
   "id": "18b8483c",
   "metadata": {},
   "outputs": [
    {
     "name": "stdout",
     "output_type": "stream",
     "text": [
      "Invalid input. Please enter a number.\n"
     ]
    }
   ],
   "source": [
    "try:\n",
    "    grade = int(input(\"What is your grade? \"))\n",
    "    \n",
    "    if 0 <= grade <= 100: #if they enter a number between 0-100\n",
    "        if grade >= 90:\n",
    "            print(\"Grade: A\")\n",
    "        elif grade >= 80:\n",
    "            print(\"Grade: B\")\n",
    "        elif grade >= 70:\n",
    "            print(\"Grade: C\")\n",
    "        elif grade >= 60:\n",
    "            print(\"Grade: D\")\n",
    "        else:\n",
    "            print(\"Grade: F\")\n",
    "    else:\n",
    "        print(\"Please enter a number between 0 and 100.\")\n",
    "except ValueError:\n",
    "    print(\"Invalid input. Please enter a number.\")\n"
   ]
  },
  {
   "cell_type": "markdown",
   "id": "69972303",
   "metadata": {},
   "source": [
    "# Conditional with logical operators"
   ]
  },
  {
   "cell_type": "code",
   "execution_count": 38,
   "id": "ed9385cc",
   "metadata": {},
   "outputs": [
    {
     "name": "stdout",
     "output_type": "stream",
     "text": [
      "You are eligible for the loan\n"
     ]
    }
   ],
   "source": [
    "age = int(input(\"What is your age?\"))\n",
    "income = int(input(\"What is your income? \").replace(\",\", \"\"))  # Remove commas\n",
    "\n",
    "if age >= 18 and income >= 50000:\n",
    "    print(\"You are eligible for the loan\")\n",
    "else:\n",
    "    print(\"You are not eligible for the loan\")"
   ]
  },
  {
   "cell_type": "markdown",
   "id": "0fa342b7",
   "metadata": {},
   "source": [
    "# Conditional with error handling"
   ]
  },
  {
   "cell_type": "code",
   "execution_count": 40,
   "id": "d12c7aae",
   "metadata": {},
   "outputs": [
    {
     "name": "stdout",
     "output_type": "stream",
     "text": [
      "Age out of range\n"
     ]
    }
   ],
   "source": [
    "age = int(input(\"What is your age?\"))\n",
    "if 0 <= age <= 120:\n",
    "    print(\"Valid age\")\n",
    "else:\n",
    "    print(\"Age out of range\")"
   ]
  },
  {
   "cell_type": "code",
   "execution_count": null,
   "id": "956b5d8b",
   "metadata": {},
   "outputs": [],
   "source": []
  }
 ],
 "metadata": {
  "kernelspec": {
   "display_name": "bootcamp",
   "language": "python",
   "name": "python3"
  },
  "language_info": {
   "codemirror_mode": {
    "name": "ipython",
    "version": 3
   },
   "file_extension": ".py",
   "mimetype": "text/x-python",
   "name": "python",
   "nbconvert_exporter": "python",
   "pygments_lexer": "ipython3",
   "version": "3.10.16"
  }
 },
 "nbformat": 4,
 "nbformat_minor": 5
}
