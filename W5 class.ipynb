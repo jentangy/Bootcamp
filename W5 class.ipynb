{
 "cells": [
  {
   "cell_type": "code",
   "execution_count": 23,
   "id": "29040938",
   "metadata": {},
   "outputs": [
    {
     "ename": "ValueError",
     "evalue": "invalid literal for int() with base 10: '3.3'",
     "output_type": "error",
     "traceback": [
      "\u001b[0;31m---------------------------------------------------------------------------\u001b[0m",
      "\u001b[0;31mValueError\u001b[0m                                Traceback (most recent call last)",
      "Cell \u001b[0;32mIn[23], line 2\u001b[0m\n\u001b[1;32m      1\u001b[0m \u001b[38;5;66;03m# challenge 3 factorial calculation\u001b[39;00m\n\u001b[0;32m----> 2\u001b[0m num \u001b[38;5;241m=\u001b[39m \u001b[38;5;28mabs\u001b[39m(\u001b[38;5;28;43mint\u001b[39;49m\u001b[43m(\u001b[49m\u001b[38;5;28;43minput\u001b[39;49m\u001b[43m(\u001b[49m\u001b[38;5;124;43m\"\u001b[39;49m\u001b[38;5;124;43mEnter an integer\u001b[39;49m\u001b[38;5;124;43m\"\u001b[39;49m\u001b[43m)\u001b[49m\u001b[43m)\u001b[49m)\n\u001b[1;32m      4\u001b[0m \u001b[38;5;66;03m# Initialize factorial and counter variable\u001b[39;00m\n\u001b[1;32m      5\u001b[0m factorial \u001b[38;5;241m=\u001b[39m \u001b[38;5;241m1\u001b[39m\n",
      "\u001b[0;31mValueError\u001b[0m: invalid literal for int() with base 10: '3.3'"
     ]
    }
   ],
   "source": [
    "# challenge 3 factorial calculation\n",
    "num = abs(int(input(\"Enter an integer\")))\n",
    "\n",
    "# Initialize factorial and counter variable\n",
    "factorial = 1\n",
    "i = 1\n",
    "\n",
    "try:\n",
    "    # Use while loop to calculate factorial\n",
    "    while i <= num: # until it gets to the number inputted\n",
    "        factorial *= i # multiply by i\n",
    "        i += 1 # move onto next number\n",
    "\n",
    "    # Print the result\n",
    "    print(f\"The factorial of {num} is {factorial}\")\n",
    "\n",
    "except ValueError:\n",
    "    print(\"Invalid input, please enter an integer\")"
   ]
  },
  {
   "cell_type": "code",
   "execution_count": 16,
   "id": "88b4d1d8",
   "metadata": {},
   "outputs": [
    {
     "name": "stdout",
     "output_type": "stream",
     "text": [
      "100\n"
     ]
    }
   ],
   "source": [
    "# challenge 4 guessing game\n",
    "import random\n",
    "random_integer = random.randint(1, 100)  # Generates a random integer between 1 and 10 (inclusive)\n",
    "print(random_integer)\n"
   ]
  },
  {
   "cell_type": "code",
   "execution_count": null,
   "id": "ae566417",
   "metadata": {},
   "outputs": [],
   "source": []
  }
 ],
 "metadata": {
  "kernelspec": {
   "display_name": "bootcamp",
   "language": "python",
   "name": "python3"
  },
  "language_info": {
   "codemirror_mode": {
    "name": "ipython",
    "version": 3
   },
   "file_extension": ".py",
   "mimetype": "text/x-python",
   "name": "python",
   "nbconvert_exporter": "python",
   "pygments_lexer": "ipython3",
   "version": "3.10.16"
  }
 },
 "nbformat": 4,
 "nbformat_minor": 5
}
