{
 "cells": [
  {
   "cell_type": "code",
   "execution_count": 1,
   "metadata": {},
   "outputs": [
    {
     "name": "stdout",
     "output_type": "stream",
     "text": [
      "jen\n"
     ]
    }
   ],
   "source": [
    "#accepting and outputting user input\n",
    "print(input(\"What is your name? \"))"
   ]
  },
  {
   "cell_type": "code",
   "execution_count": 4,
   "metadata": {},
   "outputs": [
    {
     "name": "stdout",
     "output_type": "stream",
     "text": [
      "Hello jen!\n"
     ]
    }
   ],
   "source": [
    "#saving what the user inputs\n",
    "ans = input(\"What is your name? \")\n",
    "print(\"Hello {}!\".format(ans))"
   ]
  },
  {
   "cell_type": "code",
   "execution_count": 5,
   "metadata": {},
   "outputs": [
    {
     "name": "stdout",
     "output_type": "stream",
     "text": [
      "<class 'int'>\n"
     ]
    }
   ],
   "source": [
    "# how to check the data type of a variable\n",
    "num = 5\n",
    "print( type(num) )"
   ]
  },
  {
   "cell_type": "code",
   "execution_count": 7,
   "metadata": {},
   "outputs": [
    {
     "name": "stdout",
     "output_type": "stream",
     "text": [
      "<class 'int'>\n"
     ]
    }
   ],
   "source": [
    "# converting a variable from one data type to another\n",
    "num = \"9\"\n",
    "num = int(num) #re-declaring num to store an integer\n",
    "print(type(num)) #checking type to make sure conversion worked"
   ]
  },
  {
   "cell_type": "code",
   "execution_count": 9,
   "metadata": {},
   "outputs": [
    {
     "name": "stdout",
     "output_type": "stream",
     "text": [
      "<class 'str'>\n",
      "100 + 5 = 105\n"
     ]
    }
   ],
   "source": [
    "# working with user input to perform calculations\n",
    "ans = input(\"Type a number to add: \")\n",
    "print( type(ans) ) # default type is string, must convert\n",
    "result = 100 + int(ans)\n",
    "print( \"100 + {} = {}\".format(ans, result) )"
   ]
  },
  {
   "cell_type": "code",
   "execution_count": 17,
   "metadata": {},
   "outputs": [
    {
     "name": "stdout",
     "output_type": "stream",
     "text": [
      "You did not put in a valid number!\n",
      "The program did not break!\n"
     ]
    }
   ],
   "source": [
    "# using the try and except blocks, use tab to indent where necessary\n",
    "try:\n",
    "    ans = float( input(\"Type a number to add: \") )\n",
    "    print( \"100 + {} = {}\".format(ans, 100 + ans) )\n",
    "except:\n",
    "    print(\"You did not put in a valid number!\")\n",
    "# without try/except print statement would not get hit if error occurs\n",
    "    print(\"The program did not break!\")"
   ]
  },
  {
   "cell_type": "code",
   "execution_count": 18,
   "metadata": {},
   "outputs": [
    {
     "name": "stdout",
     "output_type": "stream",
     "text": [
      "True\n",
      "<class 'bool'>\n"
     ]
    }
   ],
   "source": [
    "# Converting string \"True\" to boolean\n",
    "str_value = \"True\"\n",
    "bool_value = str_value == \"True\"  # Converting the string to a boolean\n",
    "\n",
    "# Printing the boolean value and its type\n",
    "print(bool_value)  # Output: True\n",
    "print(type(bool_value))  # Output: <class 'bool'>\n"
   ]
  },
  {
   "cell_type": "code",
   "execution_count": 19,
   "metadata": {},
   "outputs": [
    {
     "name": "stdout",
     "output_type": "stream",
     "text": [
      "The sum of the numbers is: 13.0\n"
     ]
    }
   ],
   "source": [
    "# Taking two inputs from the user\n",
    "num1 = float(input(\"Enter the first number: \"))\n",
    "num2 = float(input(\"Enter the second number: \"))\n",
    "\n",
    "# Calculating and printing the sum\n",
    "sum_result = num1 + num2\n",
    "print(\"The sum of the numbers is:\", sum_result)"
   ]
  },
  {
   "cell_type": "code",
   "execution_count": 20,
   "metadata": {},
   "outputs": [
    {
     "name": "stdout",
     "output_type": "stream",
     "text": [
      "2018 blue Chevrolet Silverado\n"
     ]
    }
   ],
   "source": [
    "# Asking the user for car information\n",
    "year = input(\"Enter the year of your car: \")\n",
    "make = input(\"Enter the make of your car: \")\n",
    "model = input(\"Enter the model of your car: \")\n",
    "color = input(\"Enter the color of your car: \")\n",
    "\n",
    "# Printing the nicely formatted statement\n",
    "print(f\"{year} {color} {make} {model}\")"
   ]
  },
  {
   "cell_type": "code",
   "execution_count": 22,
   "metadata": {},
   "outputs": [
    {
     "name": "stdout",
     "output_type": "stream",
     "text": [
      "x is less than y\n"
     ]
    }
   ],
   "source": [
    "# using an if statement to only run code if the condition is met\n",
    "x, y = 5, 10\n",
    "if x < y:\n",
    "    print(\"x is less than y\")"
   ]
  },
  {
   "cell_type": "code",
   "execution_count": 24,
   "metadata": {},
   "outputs": [
    {
     "name": "stdout",
     "output_type": "stream",
     "text": [
      "You got it right!\n"
     ]
    }
   ],
   "source": [
    "# checking user input\n",
    "ans = int( input(\"What is 5 + 5? \") )\n",
    "if ans == 10:\n",
    "    print(\"You got it right!\")"
   ]
  },
  {
   "cell_type": "code",
   "execution_count": 26,
   "metadata": {},
   "outputs": [
    {
     "name": "stdout",
     "output_type": "stream",
     "text": [
      "Both statements were true\n"
     ]
    }
   ],
   "source": [
    "# using the keyword 'and' in an 'if statement'\n",
    "x, y, z = 5, 10, 5\n",
    "if x < y and x == z:\n",
    "    print(\"Both statements were true\")"
   ]
  },
  {
   "cell_type": "code",
   "execution_count": 28,
   "metadata": {},
   "outputs": [
    {
     "name": "stdout",
     "output_type": "stream",
     "text": [
      "One or both statements were true\n"
     ]
    }
   ],
   "source": [
    "# using the keyword 'or' in an 'if statement'\n",
    "x, y, z = 5, 10, 5\n",
    "if x < y or x != z:\n",
    "    print(\"One or both statements were true\")"
   ]
  },
  {
   "cell_type": "code",
   "execution_count": 30,
   "metadata": {},
   "outputs": [
    {
     "name": "stdout",
     "output_type": "stream",
     "text": [
      "Flag is False\n"
     ]
    }
   ],
   "source": [
    "# using the keyword 'not' within an 'if statement'\n",
    "flag = False\n",
    "if not flag: # same as saying if not true\n",
    "    print(\"Flag is False\")"
   ]
  },
  {
   "cell_type": "code",
   "execution_count": 33,
   "metadata": {},
   "outputs": [
    {
     "name": "stdout",
     "output_type": "stream",
     "text": [
      "Baseball contains the character b\n"
     ]
    }
   ],
   "source": [
    "# using the keyword 'in' within an 'if statement'\n",
    "word = \"Baseball\"\n",
    "if \"b\" in word:\n",
    "    print( \"{} contains the character b\".format(word) )"
   ]
  },
  {
   "cell_type": "code",
   "execution_count": 35,
   "metadata": {},
   "outputs": [
    {
     "name": "stdout",
     "output_type": "stream",
     "text": [
      "Baseball does not contain the character x\n"
     ]
    }
   ],
   "source": [
    "# using the keyword 'not in' within an 'if statement'\n",
    "word = \"Baseball\"\n",
    "if \"x\" not in word:\n",
    "    print( \"{} does not contain the character x\".format(word) )"
   ]
  },
  {
   "cell_type": "code",
   "execution_count": 38,
   "metadata": {},
   "outputs": [
    {
     "name": "stdout",
     "output_type": "stream",
     "text": [
      "False\n"
     ]
    }
   ],
   "source": [
    "#Ask the user for input, and check to see if what they wrote includes an “es”\n",
    "word = input(\"enter a word\")\n",
    "if \"es\" in word:\n",
    "    print(True)\n",
    "if \"es\" not in word:\n",
    "    print(False)\n"
   ]
  },
  {
   "cell_type": "code",
   "execution_count": 42,
   "metadata": {},
   "outputs": [
    {
     "name": "stdout",
     "output_type": "stream",
     "text": [
      "the words are the same\n"
     ]
    }
   ],
   "source": [
    "#Ask the user to input two words, and write a conditional statement to check if both words are the same\n",
    "word1 = input(\"enter a word\")\n",
    "word2 = input(\"enter another word\")\n",
    "if word1.lower() == word2.lower():\n",
    "    print(\"the words are the same\")\n",
    "else:\n",
    "    print(\"the words are different\")"
   ]
  },
  {
   "cell_type": "code",
   "execution_count": 43,
   "metadata": {},
   "outputs": [
    {
     "name": "stdout",
     "output_type": "stream",
     "text": [
      "The number squared is: 64.0\n"
     ]
    }
   ],
   "source": [
    "# Ask the user for a number\n",
    "number = float(input(\"Enter a number: \"))\n",
    "\n",
    "# Check if the number is less than 10\n",
    "if number < 10:\n",
    "    # Square the number using the exponent operator\n",
    "    squared = number ** 2\n",
    "    print(f\"The number squared is: {squared}\")\n",
    "else:\n",
    "    print(\"The number is 10 or greater, so it won't be squared.\")\n"
   ]
  },
  {
   "cell_type": "code",
   "execution_count": 44,
   "metadata": {},
   "outputs": [
    {
     "name": "stdout",
     "output_type": "stream",
     "text": [
      "x is less\n"
     ]
    }
   ],
   "source": [
    "# using the elif conditional statement\n",
    "x, y = 5, 10\n",
    "if x > y:\n",
    "    print(\"x is greater\")\n",
    "elif x < y:\n",
    "    print(\"x is less\")"
   ]
  },
  {
   "cell_type": "code",
   "execution_count": 45,
   "metadata": {},
   "outputs": [
    {
     "name": "stdout",
     "output_type": "stream",
     "text": [
      "equal\n"
     ]
    }
   ],
   "source": [
    "# checking more than one elif conditional statement\n",
    "x, y = 5, 10\n",
    "if x > y:\n",
    "    print(\"x is greater\")\n",
    "elif (x + 10) < y: # checking if 15 is less than 10\n",
    "    print(\"x is less\")\n",
    "elif (x + 5) == y: # checking if 10 is equal to 10\n",
    "    print(\"equal\")"
   ]
  },
  {
   "cell_type": "code",
   "execution_count": 47,
   "metadata": {},
   "outputs": [
    {
     "name": "stdout",
     "output_type": "stream",
     "text": [
      "x is equal to z\n"
     ]
    }
   ],
   "source": [
    "# writing multiple conditionals within each other - multiple block levels\n",
    "x, y, z = 5, 10, 5\n",
    "if x > y:\n",
    "    print(\"greater\")\n",
    "elif x <= y:\n",
    "    if x == z:\n",
    "        print(\"x is equal to z\") # resulting output\n",
    "elif x != z:\n",
    "    print(\"x is not equal to z\") # won't get hit"
   ]
  },
  {
   "cell_type": "code",
   "execution_count": 48,
   "metadata": {},
   "outputs": [
    {
     "name": "stdout",
     "output_type": "stream",
     "text": [
      "x is less\n",
      "x is equal\n"
     ]
    }
   ],
   "source": [
    "# testing output of two if statements in a row that are both true\n",
    "x, y, z = 5, 10, 5\n",
    "if x < y:\n",
    "    print(\"x is less\")\n",
    "if x == z:\n",
    "    print(\"x is equal\")"
   ]
  },
  {
   "cell_type": "code",
   "execution_count": 49,
   "metadata": {},
   "outputs": [
    {
     "name": "stdout",
     "output_type": "stream",
     "text": [
      "x is less\n"
     ]
    }
   ],
   "source": [
    "# testing output of an if and elif statement that are both true\n",
    "x, y, z = 5, 10, 5\n",
    "if x < y:\n",
    "    print(\"x is less\")\n",
    "elif x == z:\n",
    "    print(\"x is equal to z\")"
   ]
  },
  {
   "cell_type": "code",
   "execution_count": 50,
   "metadata": {},
   "outputs": [
    {
     "name": "stdout",
     "output_type": "stream",
     "text": [
      "The number is lower than 100.\n"
     ]
    }
   ],
   "source": [
    "# Ask the user for a number\n",
    "user_input = input(\"Enter a number: \")\n",
    "\n",
    "# Type convert the input to a float (in case of decimal input)\n",
    "number = float(user_input)\n",
    "\n",
    "# Use an if/elif statement to compare the number to 100\n",
    "if number > 100:\n",
    "    print(\"The number is higher than 100.\")\n",
    "elif number < 100:\n",
    "    print(\"The number is lower than 100.\")\n",
    "else:\n",
    "    print(\"The number is exactly 100.\")"
   ]
  },
  {
   "cell_type": "code",
   "execution_count": 51,
   "metadata": {},
   "outputs": [
    {
     "name": "stdout",
     "output_type": "stream",
     "text": [
      "lower\n"
     ]
    }
   ],
   "source": [
    "x, y = 5, 10\n",
    "\n",
    "# Checking if x is greater than y\n",
    "if x > y:\n",
    "    print(\"greater\")\n",
    "\n",
    "# Checking if x is less than y\n",
    "if x < y:\n",
    "    print(\"lower\")"
   ]
  },
  {
   "cell_type": "code",
   "execution_count": 53,
   "metadata": {},
   "outputs": [
    {
     "name": "stdout",
     "output_type": "stream",
     "text": [
      "Hello John!\n"
     ]
    }
   ],
   "source": [
    "# using an else statement\n",
    "name = \"John\"\n",
    "if name == \"Jacob\":\n",
    "    print(\"Hello Jacob!\")\n",
    "else:\n",
    "    print(\"Hello {}!\".format(name) )"
   ]
  },
  {
   "cell_type": "code",
   "execution_count": 54,
   "metadata": {},
   "outputs": [
    {
     "name": "stdout",
     "output_type": "stream",
     "text": [
      "Name starts with a J\n"
     ]
    }
   ],
   "source": [
    "# writing a full conditional statement with if, elif, else\n",
    "name = \"John\"\n",
    "if name[0] == \"A\":\n",
    "    print(\"Name starts with an A\")\n",
    "elif name[0] == \"B\":\n",
    "    print(\"Name starts with a B\")\n",
    "elif name[0] == \"J\":\n",
    "    print(\"Name starts with a J\")\n",
    "else: # covers all other possibilities\n",
    "    print( \"Name starts with a { }\".format( name[0] ) )"
   ]
  },
  {
   "cell_type": "code",
   "execution_count": 58,
   "metadata": {},
   "outputs": [
    {
     "name": "stdout",
     "output_type": "stream",
     "text": [
      "Hello John\n"
     ]
    }
   ],
   "source": [
    "name = \"John\"\n",
    "if name == \"Jack\":\n",
    "    print(\"Hello Jack\")\n",
    "elif name == \"John\":\n",
    "    print(\"Hello John\")"
   ]
  },
  {
   "cell_type": "code",
   "execution_count": 60,
   "metadata": {},
   "outputs": [
    {
     "name": "stdout",
     "output_type": "stream",
     "text": [
      "Good Morning\n"
     ]
    }
   ],
   "source": [
    "# Ask the user for the time in military format\n",
    "time = int(input(\"What time is it (no colon)? \"))  # Convert input to an integer\n",
    "\n",
    "# Check the time of day and output the appropriate message\n",
    "if time < 1200:\n",
    "    print(\"Good Morning\")\n",
    "elif 1200 <= time < 1700:\n",
    "    print(\"Good Afternoon\")\n",
    "elif time >= 1700:\n",
    "    print(\"Good Evening\")\n"
   ]
  },
  {
   "cell_type": "markdown",
   "metadata": {},
   "source": [
    "# Calculator"
   ]
  },
  {
   "cell_type": "markdown",
   "metadata": {},
   "source": []
  },
  {
   "cell_type": "code",
   "execution_count": 69,
   "metadata": {},
   "outputs": [
    {
     "name": "stdout",
     "output_type": "stream",
     "text": [
      "Error: Improper numbers used. Please try again.\n"
     ]
    }
   ],
   "source": [
    "try:\n",
    "    operation = input(\"What operation would you like to perform? \")\n",
    "    \n",
    "    if operation == \"subtract\" or operation == \"divide\":\n",
    "        print(\"You chose {}.\".format(operation))\n",
    "        print(\"Please keep in mind that the order of your numbers matters.\")\n",
    "    \n",
    "    num1 = input(\"What is the first number? \")\n",
    "    num2 = input(\"What is the second number? \")\n",
    "    \n",
    "    num1, num2 = float(num1), float(num2)\n",
    "    \n",
    "    if operation == \"add\":\n",
    "        result = num1 + num2\n",
    "        print(\"{} + {} = {}\".format(num1, num2, result))\n",
    "    elif operation == \"subtract\":\n",
    "        result = num1 - num2\n",
    "        print(\"{} - {} = {}\".format(num1, num2, result))\n",
    "    elif operation == \"multiply\":\n",
    "        result = num1 * num2\n",
    "        print(\"{} * {} = {}\".format(num1, num2, result))\n",
    "    elif operation == \"divide\":\n",
    "        if num2 == 0:\n",
    "            print(\"Error: Division by zero is not allowed.\")\n",
    "        else:\n",
    "            result = num1 / num2\n",
    "            print(\"{} / {} = {}\".format(num1, num2, result))\n",
    "    else:\n",
    "        print(\"Sorry, but '{}' is not an option.\".format(operation))\n",
    "except ValueError:\n",
    "    print(\"Error: Improper numbers used. Please try again.\")\n",
    "\n"
   ]
  },
  {
   "cell_type": "code",
   "execution_count": null,
   "metadata": {},
   "outputs": [
    {
     "name": "stdout",
     "output_type": "stream",
     "text": [
      "You chose subtract.\n",
      "Please keep in mind that the order of your numbers matters.\n",
      "2.0 - 2.0 = 0.0\n"
     ]
    }
   ],
   "source": [
    "# order of numbers doesnt matter\n",
    "try:   \n",
    "    operation = input(\"What operation would you like to perform? (add, subtract, multiply, divide) \")\n",
    "    \n",
    "    if operation == \"subtract\" or operation == \"divide\":\n",
    "        print(\"You chose {}.\".format(operation))\n",
    "        print(\"Please keep in mind that the order of your numbers matters.\")\n",
    "    \n",
    "    # Ask if they want to reverse the numbers\n",
    "    reverse = input(\"Would you like to reverse the placement of the numbers? (yes/no) \").lower()\n",
    "    \n",
    "    num1 = input(\"What is the first number? \")\n",
    "    num2 = input(\"What is the second number? \")\n",
    "    \n",
    "    num1, num2 = float(num1), float(num2)\n",
    "    \n",
    "    # Perform the selected operation\n",
    "    if operation == \"add\":\n",
    "        result = num1 + num2\n",
    "        print(\"{} + {} = {}\".format(num1, num2, result))\n",
    "    elif operation == \"subtract\":\n",
    "        result = num1 - num2\n",
    "        print(\"{} - {} = {}\".format(num1, num2, result))\n",
    "    elif operation == \"multiply\":\n",
    "        result = num1 * num2\n",
    "        print(\"{} * {} = {}\".format(num1, num2, result))\n",
    "    elif operation == \"divide\":\n",
    "        if num2 == 0:\n",
    "            print(\"Error: Division by zero is not allowed.\")\n",
    "        else:\n",
    "            result = num1 / num2\n",
    "            print(\"{} / {} = {}\".format(num1, num2, result))\n",
    "    else:\n",
    "        print(\"Sorry, but '{}' is not an option.\".format(operation))\n",
    "except ValueError:\n",
    "    print(\"Error: Improper numbers used. Please try again.\")\n"
   ]
  },
  {
   "cell_type": "code",
   "execution_count": 72,
   "metadata": {},
   "outputs": [
    {
     "name": "stdout",
     "output_type": "stream",
     "text": [
      "3.0 * 3.0 = 9.0\n"
     ]
    }
   ],
   "source": [
    "try:\n",
    "    operation = input(\"What operation would you like to perform? (add, subtract, multiply, divide) \")\n",
    "    \n",
    "    if operation == \"subtract\" or operation == \"divide\":\n",
    "        print(\"You chose {}.\".format(operation))\n",
    "        print(\"Please keep in mind that the order of your numbers matters.\")\n",
    "    \n",
    "    # Ask if they want to reverse the numbers\n",
    "    reverse = input(\"Would you like to reverse the placement of the numbers? (yes/no) \").lower()\n",
    "    \n",
    "    num1 = input(\"What is the first number? \")\n",
    "    num2 = input(\"What is the second number? \")\n",
    "    \n",
    "    num1, num2 = float(num1), float(num2)\n",
    "    \n",
    "    # Reverse the numbers if the user says yes\n",
    "    if reverse == \"yes\":\n",
    "        num1, num2 = num2, num1\n",
    "    \n",
    "    # Perform the selected operation\n",
    "    if operation == \"add\":\n",
    "        result = num1 + num2\n",
    "        print(\"{} + {} = {}\".format(num1, num2, result))\n",
    "    elif operation == \"subtract\":\n",
    "        result = num1 - num2\n",
    "        print(\"{} - {} = {}\".format(num1, num2, result))\n",
    "    elif operation == \"multiply\":\n",
    "        result = num1 * num2\n",
    "        print(\"{} * {} = {}\".format(num1, num2, result))\n",
    "    elif operation == \"divide\":\n",
    "        if num2 == 0:\n",
    "            print(\"Error: Division by zero is not allowed.\")\n",
    "        else:\n",
    "            result = num1 / num2\n",
    "            print(\"{} / {} = {}\".format(num1, num2, result))\n",
    "    else:\n",
    "        print(\"Sorry, but '{}' is not an option.\".format(operation))\n",
    "except ValueError:\n",
    "    print(\"Error: Improper numbers used. Please try again.\")\n"
   ]
  },
  {
   "cell_type": "code",
   "execution_count": 77,
   "metadata": {},
   "outputs": [
    {
     "name": "stdout",
     "output_type": "stream",
     "text": [
      "Kid\n"
     ]
    }
   ],
   "source": [
    "try:\n",
    "    # Ask the user for their age\n",
    "    age = int(input(\"Please enter your age: \"))\n",
    "    \n",
    "    # Determine the age group\n",
    "    if 0 <= age <= 12:\n",
    "        print(\"Kid\")\n",
    "    elif 13 <= age <= 19:\n",
    "        print(\"Teenager\")\n",
    "    elif 20 <= age <= 30:\n",
    "        print(\"Young Adult\")\n",
    "    elif 31 <= age <= 64:\n",
    "        print(\"Adult\")\n",
    "    elif age >= 65:\n",
    "        print(\"Senior\")\n",
    "    else:\n",
    "        print(\"Invalid age input. Please enter a positive number.\")\n",
    "\n",
    "except ValueError:\n",
    "    print(\"Error: Please enter a valid number for age.\")\n"
   ]
  },
  {
   "cell_type": "code",
   "execution_count": null,
   "metadata": {},
   "outputs": [],
   "source": []
  }
 ],
 "metadata": {
  "kernelspec": {
   "display_name": "bootcamp",
   "language": "python",
   "name": "python3"
  },
  "language_info": {
   "codemirror_mode": {
    "name": "ipython",
    "version": 3
   },
   "file_extension": ".py",
   "mimetype": "text/x-python",
   "name": "python",
   "nbconvert_exporter": "python",
   "pygments_lexer": "ipython3",
   "version": "3.10.16"
  }
 },
 "nbformat": 4,
 "nbformat_minor": 2
}
